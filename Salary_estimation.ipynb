{
  "nbformat": 4,
  "nbformat_minor": 0,
  "metadata": {
    "colab": {
      "name": "Salary estimation.ipynb",
      "provenance": []
    },
    "kernelspec": {
      "name": "python3",
      "display_name": "Python 3"
    }
  },
  "cells": [
    {
      "cell_type": "code",
      "metadata": {
        "id": "u4LXllplL0b7",
        "colab_type": "code",
        "colab": {
          "base_uri": "https://localhost:8080/",
          "height": 166
        },
        "outputId": "026372bb-c236-47a6-a93f-a5be7d8f261f"
      },
      "source": [
        "import numpy as np\n",
        "import pandas as pd\n",
        "import matplotlib.pyplot as plt\n",
        "dataset=pd.read_csv(\"Salary_Data.csv\")\n",
        "dataset.info()\n",
        "X=dataset.iloc[:,-1].values\n",
        "Y=dataset.iloc[:,:1].values"
      ],
      "execution_count": 71,
      "outputs": [
        {
          "output_type": "stream",
          "text": [
            "<class 'pandas.core.frame.DataFrame'>\n",
            "RangeIndex: 30 entries, 0 to 29\n",
            "Data columns (total 2 columns):\n",
            " #   Column           Non-Null Count  Dtype  \n",
            "---  ------           --------------  -----  \n",
            " 0   YearsExperience  30 non-null     float64\n",
            " 1   Salary           30 non-null     float64\n",
            "dtypes: float64(2)\n",
            "memory usage: 608.0 bytes\n"
          ],
          "name": "stdout"
        }
      ]
    },
    {
      "cell_type": "code",
      "metadata": {
        "id": "xkjxW0QOXqMG",
        "colab_type": "code",
        "colab": {}
      },
      "source": [
        "from sklearn.model_selection import train_test_split as tt\n",
        "X_train, X_test, Y_train, Y_test=tt(X,Y, test_size=0.2)\n",
        "x_train=X_train.reshape(-1,1)\n",
        "x_test=X_test.reshape(-1,1)\n",
        "y_test=Y_test.reshape(-1,1)"
      ],
      "execution_count": 0,
      "outputs": []
    },
    {
      "cell_type": "code",
      "metadata": {
        "id": "Sk91vi16tjhb",
        "colab_type": "code",
        "colab": {
          "base_uri": "https://localhost:8080/",
          "height": 33
        },
        "outputId": "c252d256-8016-4ed5-8d9a-e308399f47c6"
      },
      "source": [
        "from sklearn.linear_model import LinearRegression \n",
        "regressor=LinearRegression()\n",
        "regressor.fit(x_train,y_train)"
      ],
      "execution_count": 74,
      "outputs": [
        {
          "output_type": "execute_result",
          "data": {
            "text/plain": [
              "LinearRegression(copy_X=True, fit_intercept=True, n_jobs=None, normalize=False)"
            ]
          },
          "metadata": {
            "tags": []
          },
          "execution_count": 74
        }
      ]
    },
    {
      "cell_type": "code",
      "metadata": {
        "id": "JCpRAaY-vX71",
        "colab_type": "code",
        "colab": {
          "base_uri": "https://localhost:8080/",
          "height": 116
        },
        "outputId": "a740cfae-596a-489f-87d0-766428f9a976"
      },
      "source": [
        "regressor.fit(x_train, Y_train)\n",
        "y_pred=regressor.predict(x_test)\n",
        "print(y_pred)"
      ],
      "execution_count": 75,
      "outputs": [
        {
          "output_type": "stream",
          "text": [
            "[[8.30651634]\n",
            " [1.3445389 ]\n",
            " [3.74348707]\n",
            " [5.82148102]\n",
            " [3.31725822]\n",
            " [7.11196738]]\n"
          ],
          "name": "stdout"
        }
      ]
    },
    {
      "cell_type": "code",
      "metadata": {
        "id": "MYxI-_x_3Zvx",
        "colab_type": "code",
        "colab": {
          "base_uri": "https://localhost:8080/",
          "height": 294
        },
        "outputId": "042252ed-4a96-4ad2-fdeb-8314e420cce9"
      },
      "source": [
        "plt.scatter(x_train, y_train,color='red')\n",
        "plt.plot(x_train, regressor.predict(x_train),color='blue')\n",
        "plt.title(\"SALARY VS EXPERIENCE\")\n",
        "plt.xlabel('SALARY')\n",
        "plt.ylabel('EXPERIENCE')\n",
        "plt.show()"
      ],
      "execution_count": 76,
      "outputs": [
        {
          "output_type": "display_data",
          "data": {
            "image/png": "[encoded data removed]",
            "text/plain": [
              "<Figure size 432x288 with 1 Axes>"
            ]
          },
          "metadata": {
            "tags": [],
            "needs_background": "light"
          }
        }
      ]
    },
    {
      "cell_type": "code",
      "metadata": {
        "id": "-1HfyhfD4bF7",
        "colab_type": "code",
        "colab": {
          "base_uri": "https://localhost:8080/",
          "height": 294
        },
        "outputId": "5d2bb19a-513c-4c6a-961a-aa9f13531d69"
      },
      "source": [
        "plt.scatter(x_test, y_test,color='red')\n",
        "plt.plot(x_test, regressor.predict(x_test),color='blue')\n",
        "plt.title(\"SALARY VS EXPERIENCE\")\n",
        "plt.xlabel('SALARY')\n",
        "plt.ylabel('EXPERIENCE')\n",
        "plt.show()"
      ],
      "execution_count": 77,
      "outputs": [
        {
          "output_type": "display_data",
          "data": {
            "image/png": "[encoded data removed]",
            "text/plain": [
              "<Figure size 432x288 with 1 Axes>"
            ]
          },
          "metadata": {
            "tags": [],
            "needs_background": "light"
          }
        }
      ]
    }
  ]
}